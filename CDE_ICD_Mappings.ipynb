{
 "cells": [
  {
   "cell_type": "code",
   "execution_count": 116,
   "id": "initial_id",
   "metadata": {
    "collapsed": true,
    "ExecuteTime": {
     "end_time": "2023-11-01T12:54:41.132360Z",
     "start_time": "2023-11-01T12:54:41.127631Z"
    }
   },
   "outputs": [],
   "source": [
    "import pandas as pd\n",
    "from pprint import pprint\n",
    "import requests\n",
    "import yaml"
   ]
  },
  {
   "cell_type": "code",
   "execution_count": 117,
   "outputs": [
    {
     "data": {
      "text/plain": "                                         PL COMMENTS    Variable / Field Name  \\\n0  changed to _status field but left annotations ...        auto_other_status   \n1  can we put something in the legend about origi...     auto_alopecia_status   \n2                                                NaN  auto_arthropathy_status   \n3                                                NaN       auto_atopic_status   \n4                                                NaN       auto_celiac_status   \n\n                Field Label Nicole and Liz feedback/Relevant standards  \\\n0      [auto_other_specify]                                        NaN   \n1           Alopecia areata                                        NaN   \n2               Arthropathy                                        NaN   \n3  Atopic dermatitis/eczema                                        NaN   \n4            Celiac disease                                        NaN   \n\n       HPO ID                  HPO Label       Mondo ID         Mondo Label  \\\n0  HP:0002960               Autoimmunity  MONDO:0007179  autoimmune disease   \n1  HP:0002232            Patchy alopecia  MONDO:0005340     alopecia areata   \n2  HP:0001367  Abnormal joint morphology  MONDO:0006816         arthropathy   \n3  HP:0001047          Atopic dermatitis  MONDO:0004980       atopic eczema   \n4  HP:0002608             Celiac disease  MONDO:0005130      celiac disease   \n\n  MAxO ID MAxO Label  ... Matrix Ranking? Field Annotation  \\\n0     NaN        NaN  ...             NaN              NaN   \n1     NaN        NaN  ...             NaN              NaN   \n2     NaN        NaN  ...             NaN              NaN   \n3     NaN        NaN  ...             NaN              NaN   \n4     NaN        NaN  ...             NaN              NaN   \n\n                                   NIH-Endorsed CDEs  \\\n0  Comorbidity or Underlying Condition Specify Ot...   \n1                                                NaN   \n2                                                NaN   \n3                                                NaN   \n4                                                NaN   \n\n  Link to NIH CDE Repository NIH-endorsed CDEs have been reviewed and approved by an expert panel, and meet established criteria. They are designated with a gold ribbon.  \\\n0    https://cde.nlm.nih.gov/deView?tinyId=G0hugkm3M                                                                                                                        \n1                                                NaN                                                                                                                        \n2                                                NaN                                                                                                                        \n3                                                NaN                                                                                                                        \n4                                                NaN                                                                                                                        \n\n  Notes Bundles are indivisible. They are not considered valid and reliable if not used in their entirety, as intended.  \\\n0  Part of a bundle: Form: Project 5 - Comorbidit...                                                                      \n1                                                NaN                                                                      \n2                                                NaN                                                                      \n3                                                NaN                                                                      \n4                                                NaN                                                                      \n\n                 Link to NIH CDE Repository - Bundle  \\\n0  https://cde.nlm.nih.gov/formView?tinyId=_YC_9QoeC   \n1                                                NaN   \n2                                                NaN   \n3                                                NaN   \n4                                                NaN   \n\n  Additional Notes (e.g., present in more than one bundle; related but not exact conditions; etc.)  \\\n0                                                NaN                                                 \n1                                                NaN                                                 \n2                                                NaN                                                 \n3                                                NaN                                                 \n4                                                NaN                                                 \n\n  Related CDE at NIH CDE Repository (not Gold Ribbon)  \\\n0                      Other autoimmune disease text    \n1                    Scarring chronic alopecia PhenX    \n2            Joints muscles elbows assessment status    \n3  Atopic allergy disorder condition diagnosed in...    \n4  Celiac disease gluten sensitivity diagnosis ev...    \n\n          Link to https://cde.nlm.nih.gov/home site  \\\n0  https://cde.nlm.nih.gov/deView?tinyId=mygR2IK66U   \n1  https://cde.nlm.nih.gov/deView?tinyId=X1pQ5qinjl   \n2   https://cde.nlm.nih.gov/deView?tinyId=7kJKwKTTL   \n3  https://cde.nlm.nih.gov/deView?tinyId=JgLOcN_vFr   \n4  https://cde.nlm.nih.gov/deView?tinyId=qieRB4328M   \n\n                                             Notes  \n0                                              NaN  \n1                                              NaN  \n2                                              NaN  \n3  https://cde.nlm.nih.gov/cde/search?q=dermatitis  \n4                                              NaN  \n\n[5 rows x 75 columns]",
      "text/html": "<div>\n<style scoped>\n    .dataframe tbody tr th:only-of-type {\n        vertical-align: middle;\n    }\n\n    .dataframe tbody tr th {\n        vertical-align: top;\n    }\n\n    .dataframe thead th {\n        text-align: right;\n    }\n</style>\n<table border=\"1\" class=\"dataframe\">\n  <thead>\n    <tr style=\"text-align: right;\">\n      <th></th>\n      <th>PL COMMENTS</th>\n      <th>Variable / Field Name</th>\n      <th>Field Label</th>\n      <th>Nicole and Liz feedback/Relevant standards</th>\n      <th>HPO ID</th>\n      <th>HPO Label</th>\n      <th>Mondo ID</th>\n      <th>Mondo Label</th>\n      <th>MAxO ID</th>\n      <th>MAxO Label</th>\n      <th>...</th>\n      <th>Matrix Ranking?</th>\n      <th>Field Annotation</th>\n      <th>NIH-Endorsed CDEs</th>\n      <th>Link to NIH CDE Repository NIH-endorsed CDEs have been reviewed and approved by an expert panel, and meet established criteria. They are designated with a gold ribbon.</th>\n      <th>Notes Bundles are indivisible. They are not considered valid and reliable if not used in their entirety, as intended.</th>\n      <th>Link to NIH CDE Repository - Bundle</th>\n      <th>Additional Notes (e.g., present in more than one bundle; related but not exact conditions; etc.)</th>\n      <th>Related CDE at NIH CDE Repository (not Gold Ribbon)</th>\n      <th>Link to https://cde.nlm.nih.gov/home site</th>\n      <th>Notes</th>\n    </tr>\n  </thead>\n  <tbody>\n    <tr>\n      <th>0</th>\n      <td>changed to _status field but left annotations ...</td>\n      <td>auto_other_status</td>\n      <td>[auto_other_specify]</td>\n      <td>NaN</td>\n      <td>HP:0002960</td>\n      <td>Autoimmunity</td>\n      <td>MONDO:0007179</td>\n      <td>autoimmune disease</td>\n      <td>NaN</td>\n      <td>NaN</td>\n      <td>...</td>\n      <td>NaN</td>\n      <td>NaN</td>\n      <td>Comorbidity or Underlying Condition Specify Ot...</td>\n      <td>https://cde.nlm.nih.gov/deView?tinyId=G0hugkm3M</td>\n      <td>Part of a bundle: Form: Project 5 - Comorbidit...</td>\n      <td>https://cde.nlm.nih.gov/formView?tinyId=_YC_9QoeC</td>\n      <td>NaN</td>\n      <td>Other autoimmune disease text</td>\n      <td>https://cde.nlm.nih.gov/deView?tinyId=mygR2IK66U</td>\n      <td>NaN</td>\n    </tr>\n    <tr>\n      <th>1</th>\n      <td>can we put something in the legend about origi...</td>\n      <td>auto_alopecia_status</td>\n      <td>Alopecia areata</td>\n      <td>NaN</td>\n      <td>HP:0002232</td>\n      <td>Patchy alopecia</td>\n      <td>MONDO:0005340</td>\n      <td>alopecia areata</td>\n      <td>NaN</td>\n      <td>NaN</td>\n      <td>...</td>\n      <td>NaN</td>\n      <td>NaN</td>\n      <td>NaN</td>\n      <td>NaN</td>\n      <td>NaN</td>\n      <td>NaN</td>\n      <td>NaN</td>\n      <td>Scarring chronic alopecia PhenX</td>\n      <td>https://cde.nlm.nih.gov/deView?tinyId=X1pQ5qinjl</td>\n      <td>NaN</td>\n    </tr>\n    <tr>\n      <th>2</th>\n      <td>NaN</td>\n      <td>auto_arthropathy_status</td>\n      <td>Arthropathy</td>\n      <td>NaN</td>\n      <td>HP:0001367</td>\n      <td>Abnormal joint morphology</td>\n      <td>MONDO:0006816</td>\n      <td>arthropathy</td>\n      <td>NaN</td>\n      <td>NaN</td>\n      <td>...</td>\n      <td>NaN</td>\n      <td>NaN</td>\n      <td>NaN</td>\n      <td>NaN</td>\n      <td>NaN</td>\n      <td>NaN</td>\n      <td>NaN</td>\n      <td>Joints muscles elbows assessment status</td>\n      <td>https://cde.nlm.nih.gov/deView?tinyId=7kJKwKTTL</td>\n      <td>NaN</td>\n    </tr>\n    <tr>\n      <th>3</th>\n      <td>NaN</td>\n      <td>auto_atopic_status</td>\n      <td>Atopic dermatitis/eczema</td>\n      <td>NaN</td>\n      <td>HP:0001047</td>\n      <td>Atopic dermatitis</td>\n      <td>MONDO:0004980</td>\n      <td>atopic eczema</td>\n      <td>NaN</td>\n      <td>NaN</td>\n      <td>...</td>\n      <td>NaN</td>\n      <td>NaN</td>\n      <td>NaN</td>\n      <td>NaN</td>\n      <td>NaN</td>\n      <td>NaN</td>\n      <td>NaN</td>\n      <td>Atopic allergy disorder condition diagnosed in...</td>\n      <td>https://cde.nlm.nih.gov/deView?tinyId=JgLOcN_vFr</td>\n      <td>https://cde.nlm.nih.gov/cde/search?q=dermatitis</td>\n    </tr>\n    <tr>\n      <th>4</th>\n      <td>NaN</td>\n      <td>auto_celiac_status</td>\n      <td>Celiac disease</td>\n      <td>NaN</td>\n      <td>HP:0002608</td>\n      <td>Celiac disease</td>\n      <td>MONDO:0005130</td>\n      <td>celiac disease</td>\n      <td>NaN</td>\n      <td>NaN</td>\n      <td>...</td>\n      <td>NaN</td>\n      <td>NaN</td>\n      <td>NaN</td>\n      <td>NaN</td>\n      <td>NaN</td>\n      <td>NaN</td>\n      <td>NaN</td>\n      <td>Celiac disease gluten sensitivity diagnosis ev...</td>\n      <td>https://cde.nlm.nih.gov/deView?tinyId=qieRB4328M</td>\n      <td>NaN</td>\n    </tr>\n  </tbody>\n</table>\n<p>5 rows × 75 columns</p>\n</div>"
     },
     "execution_count": 117,
     "metadata": {},
     "output_type": "execute_result"
    }
   ],
   "source": [
    "# supp_5.tsv is downloaded from https://docs.google.com/spreadsheets/d/1ZrLgcGYOi5m760LoTJ7BshDC_y8mWKW1OvzKMrWh7vk/edit#gid=1272950057\n",
    "mappings = pd.read_csv('data/supp_5.tsv', sep='\\t')\n",
    "mappings.head()"
   ],
   "metadata": {
    "collapsed": false,
    "ExecuteTime": {
     "end_time": "2023-11-01T12:54:41.726290Z",
     "start_time": "2023-11-01T12:54:41.691761Z"
    }
   },
   "id": "b39fc5b35c762897"
  },
  {
   "cell_type": "code",
   "execution_count": 126,
   "outputs": [],
   "source": [
    "# rename columns for easier access\n",
    "split_columns = {\n",
    "    'Variable / Field Name': 'field_name',\n",
    "    'Field Label': 'field_label',\n",
    "    'ICD code': 'ICD_code',\n",
    "    'HPO ID': 'HPO_ID',\n",
    "    'HPO Label': 'HPO_label',\n",
    "    'Mondo ID': 'MONDO_ID',\n",
    "    'Mondo Label': 'MONDO_label',\n",
    "    'MAxO ID': 'MAxO_ID',\n",
    "    'MAxO Label': 'MAxO_label',\n",
    "    'Related CDE at NIH CDE Repository (not Gold Ribbon)': 'Related_CDE_at_NIH_CDE_Repository'\n",
    "                 }\n",
    "mappings = mappings.rename(columns=split_columns)"
   ],
   "metadata": {
    "collapsed": false,
    "ExecuteTime": {
     "end_time": "2023-11-01T12:57:25.534280Z",
     "start_time": "2023-11-01T12:57:25.523748Z"
    }
   },
   "id": "f66249a8abcf825b"
  },
  {
   "cell_type": "code",
   "execution_count": 128,
   "outputs": [],
   "source": [
    "data = []\n",
    "for ms in mappings.itertuples():\n",
    "    for k, v in ms._asdict().items():\n",
    "        if 'ICD' in k and isinstance(v, str):\n",
    "            data.append({\n",
    "                'field_name': ms.field_name,\n",
    "                'field_label': ms.field_label,\n",
    "                'Related_CDE_at_NIH_CDE_Repository': ms.Related_CDE_at_NIH_CDE_Repository,\n",
    "                'ICD_code': v,\n",
    "                'HPO_ID': ms.HPO_ID,\n",
    "                'HPO_label': ms.HPO_label,\n",
    "                'Mondo_ID': ms.MONDO_ID,\n",
    "                'Mondo_label': ms.MONDO_label,\n",
    "                'MAxO_ID': ms.MAxO_ID,\n",
    "                'MAxO_label': ms.MAxO_label\n",
    "            })"
   ],
   "metadata": {
    "collapsed": false,
    "ExecuteTime": {
     "end_time": "2023-11-01T12:57:33.595929Z",
     "start_time": "2023-11-01T12:57:33.581503Z"
    }
   },
   "id": "aa89097a12a8f310"
  },
  {
   "cell_type": "code",
   "execution_count": 129,
   "outputs": [
    {
     "name": "stdout",
     "output_type": "stream",
     "text": [
      "(133, 10)\n"
     ]
    },
    {
     "data": {
      "text/plain": "                    field_name               field_label  \\\n0         auto_alopecia_status           Alopecia areata   \n1      auto_arthropathy_status               Arthropathy   \n2           auto_atopic_status  Atopic dermatitis/eczema   \n3           auto_celiac_status            Celiac disease   \n4  auto_dermatomyositis_status           Dermatomyositis   \n\n                   Related_CDE_at_NIH_CDE_Repository       ICD_code  \\\n0                    Scarring chronic alopecia PhenX    ICD9:704.01   \n1            Joints muscles elbows assessment status  ICD10:M00-M02   \n2  Atopic allergy disorder condition diagnosed in...   ICD10:L20.81   \n3  Celiac disease gluten sensitivity diagnosis ev...    ICD10:K90.0   \n4                                                NaN   ICD10:M33.90   \n\n       HPO_ID                  HPO_label       Mondo_ID      Mondo_label  \\\n0  HP:0002232            Patchy alopecia  MONDO:0005340  alopecia areata   \n1  HP:0001367  Abnormal joint morphology  MONDO:0006816      arthropathy   \n2  HP:0001047          Atopic dermatitis  MONDO:0004980    atopic eczema   \n3  HP:0002608             Celiac disease  MONDO:0005130   celiac disease   \n4         NaN                        NaN  MONDO:0016367  dermatomyositis   \n\n  MAxO_ID  MAxO_label  \n0     NaN         NaN  \n1     NaN         NaN  \n2     NaN         NaN  \n3     NaN         NaN  \n4     NaN         NaN  ",
      "text/html": "<div>\n<style scoped>\n    .dataframe tbody tr th:only-of-type {\n        vertical-align: middle;\n    }\n\n    .dataframe tbody tr th {\n        vertical-align: top;\n    }\n\n    .dataframe thead th {\n        text-align: right;\n    }\n</style>\n<table border=\"1\" class=\"dataframe\">\n  <thead>\n    <tr style=\"text-align: right;\">\n      <th></th>\n      <th>field_name</th>\n      <th>field_label</th>\n      <th>Related_CDE_at_NIH_CDE_Repository</th>\n      <th>ICD_code</th>\n      <th>HPO_ID</th>\n      <th>HPO_label</th>\n      <th>Mondo_ID</th>\n      <th>Mondo_label</th>\n      <th>MAxO_ID</th>\n      <th>MAxO_label</th>\n    </tr>\n  </thead>\n  <tbody>\n    <tr>\n      <th>0</th>\n      <td>auto_alopecia_status</td>\n      <td>Alopecia areata</td>\n      <td>Scarring chronic alopecia PhenX</td>\n      <td>ICD9:704.01</td>\n      <td>HP:0002232</td>\n      <td>Patchy alopecia</td>\n      <td>MONDO:0005340</td>\n      <td>alopecia areata</td>\n      <td>NaN</td>\n      <td>NaN</td>\n    </tr>\n    <tr>\n      <th>1</th>\n      <td>auto_arthropathy_status</td>\n      <td>Arthropathy</td>\n      <td>Joints muscles elbows assessment status</td>\n      <td>ICD10:M00-M02</td>\n      <td>HP:0001367</td>\n      <td>Abnormal joint morphology</td>\n      <td>MONDO:0006816</td>\n      <td>arthropathy</td>\n      <td>NaN</td>\n      <td>NaN</td>\n    </tr>\n    <tr>\n      <th>2</th>\n      <td>auto_atopic_status</td>\n      <td>Atopic dermatitis/eczema</td>\n      <td>Atopic allergy disorder condition diagnosed in...</td>\n      <td>ICD10:L20.81</td>\n      <td>HP:0001047</td>\n      <td>Atopic dermatitis</td>\n      <td>MONDO:0004980</td>\n      <td>atopic eczema</td>\n      <td>NaN</td>\n      <td>NaN</td>\n    </tr>\n    <tr>\n      <th>3</th>\n      <td>auto_celiac_status</td>\n      <td>Celiac disease</td>\n      <td>Celiac disease gluten sensitivity diagnosis ev...</td>\n      <td>ICD10:K90.0</td>\n      <td>HP:0002608</td>\n      <td>Celiac disease</td>\n      <td>MONDO:0005130</td>\n      <td>celiac disease</td>\n      <td>NaN</td>\n      <td>NaN</td>\n    </tr>\n    <tr>\n      <th>4</th>\n      <td>auto_dermatomyositis_status</td>\n      <td>Dermatomyositis</td>\n      <td>NaN</td>\n      <td>ICD10:M33.90</td>\n      <td>NaN</td>\n      <td>NaN</td>\n      <td>MONDO:0016367</td>\n      <td>dermatomyositis</td>\n      <td>NaN</td>\n      <td>NaN</td>\n    </tr>\n  </tbody>\n</table>\n</div>"
     },
     "execution_count": 129,
     "metadata": {},
     "output_type": "execute_result"
    }
   ],
   "source": [
    "mapping_view = pd.DataFrame(data)\n",
    "print(mapping_view.shape)\n",
    "mapping_view.head()"
   ],
   "metadata": {
    "collapsed": false,
    "ExecuteTime": {
     "end_time": "2023-11-01T12:57:36.403704Z",
     "start_time": "2023-11-01T12:57:36.351986Z"
    }
   },
   "id": "766c07465d633a13"
  },
  {
   "cell_type": "code",
   "execution_count": 134,
   "outputs": [],
   "source": [
    "# get bioportal api key from secrets.yaml\n",
    "with open('secrets.yaml', 'r') as f:\n",
    "    secrets = yaml.safe_load(f)"
   ],
   "metadata": {
    "collapsed": false,
    "ExecuteTime": {
     "end_time": "2023-11-01T12:58:14.118029Z",
     "start_time": "2023-11-01T12:58:14.111832Z"
    }
   },
   "id": "ead8890893a9a59e"
  },
  {
   "cell_type": "code",
   "execution_count": 135,
   "outputs": [],
   "source": [
    "def get_icd_label(code):\n",
    "    \"\"\"\n",
    "    looks up the label for an ICD code using the bioportal api\n",
    "    :param code: \n",
    "    :return: label \n",
    "    \"\"\"\n",
    "    ontology_id = code.split(\":\")[0]\n",
    "    local_id = code.split(\":\")[1]\n",
    "    if 'ICD9' in ontology_id:\n",
    "        ontology_id = 'ICD9CM'\n",
    "    bp_url = \"https://data.bioontology.org\" \n",
    "    parameters = {\n",
    "        'apikey': secrets['api_key'],\n",
    "        'q': local_id,\n",
    "        'ontologies': [ontology_id]\n",
    "    \n",
    "    }\n",
    "    r = requests.get(url=bp_url+\"/search\", params=parameters)\n",
    "    results = r.json()\n",
    "    if 'collection' in results.keys() and len(results['collection']) != 0:\n",
    "        for res in results['collection']:\n",
    "            if res['@id'].split(\"/\")[-1] == local_id:\n",
    "                return res['prefLabel']\n",
    "              \n",
    "    \n"
   ],
   "metadata": {
    "collapsed": false,
    "ExecuteTime": {
     "end_time": "2023-11-01T12:58:27.591323Z",
     "start_time": "2023-11-01T12:58:27.588037Z"
    }
   },
   "id": "5493db4848a0a662"
  },
  {
   "cell_type": "code",
   "execution_count": 136,
   "outputs": [],
   "source": [
    "mapping_view['ICD_label'] = mapping_view['ICD_code'].apply(get_icd_label)"
   ],
   "metadata": {
    "collapsed": false,
    "ExecuteTime": {
     "end_time": "2023-11-01T12:59:48.028177Z",
     "start_time": "2023-11-01T12:58:31.707693Z"
    }
   },
   "id": "d5195222a5d59929"
  },
  {
   "cell_type": "code",
   "execution_count": 137,
   "outputs": [
    {
     "data": {
      "text/plain": "                    field_name               field_label  \\\n0         auto_alopecia_status           Alopecia areata   \n1      auto_arthropathy_status               Arthropathy   \n2           auto_atopic_status  Atopic dermatitis/eczema   \n3           auto_celiac_status            Celiac disease   \n4  auto_dermatomyositis_status           Dermatomyositis   \n\n                   Related_CDE_at_NIH_CDE_Repository       ICD_code  \\\n0                    Scarring chronic alopecia PhenX    ICD9:704.01   \n1            Joints muscles elbows assessment status  ICD10:M00-M02   \n2  Atopic allergy disorder condition diagnosed in...   ICD10:L20.81   \n3  Celiac disease gluten sensitivity diagnosis ev...    ICD10:K90.0   \n4                                                NaN   ICD10:M33.90   \n\n       HPO_ID                  HPO_label       Mondo_ID      Mondo_label  \\\n0  HP:0002232            Patchy alopecia  MONDO:0005340  alopecia areata   \n1  HP:0001367  Abnormal joint morphology  MONDO:0006816      arthropathy   \n2  HP:0001047          Atopic dermatitis  MONDO:0004980    atopic eczema   \n3  HP:0002608             Celiac disease  MONDO:0005130   celiac disease   \n4         NaN                        NaN  MONDO:0016367  dermatomyositis   \n\n  MAxO_ID  MAxO_label        ICD_label  \n0     NaN         NaN  Alopecia areata  \n1     NaN         NaN             None  \n2     NaN         NaN             None  \n3     NaN         NaN  Coeliac disease  \n4     NaN         NaN             None  ",
      "text/html": "<div>\n<style scoped>\n    .dataframe tbody tr th:only-of-type {\n        vertical-align: middle;\n    }\n\n    .dataframe tbody tr th {\n        vertical-align: top;\n    }\n\n    .dataframe thead th {\n        text-align: right;\n    }\n</style>\n<table border=\"1\" class=\"dataframe\">\n  <thead>\n    <tr style=\"text-align: right;\">\n      <th></th>\n      <th>field_name</th>\n      <th>field_label</th>\n      <th>Related_CDE_at_NIH_CDE_Repository</th>\n      <th>ICD_code</th>\n      <th>HPO_ID</th>\n      <th>HPO_label</th>\n      <th>Mondo_ID</th>\n      <th>Mondo_label</th>\n      <th>MAxO_ID</th>\n      <th>MAxO_label</th>\n      <th>ICD_label</th>\n    </tr>\n  </thead>\n  <tbody>\n    <tr>\n      <th>0</th>\n      <td>auto_alopecia_status</td>\n      <td>Alopecia areata</td>\n      <td>Scarring chronic alopecia PhenX</td>\n      <td>ICD9:704.01</td>\n      <td>HP:0002232</td>\n      <td>Patchy alopecia</td>\n      <td>MONDO:0005340</td>\n      <td>alopecia areata</td>\n      <td>NaN</td>\n      <td>NaN</td>\n      <td>Alopecia areata</td>\n    </tr>\n    <tr>\n      <th>1</th>\n      <td>auto_arthropathy_status</td>\n      <td>Arthropathy</td>\n      <td>Joints muscles elbows assessment status</td>\n      <td>ICD10:M00-M02</td>\n      <td>HP:0001367</td>\n      <td>Abnormal joint morphology</td>\n      <td>MONDO:0006816</td>\n      <td>arthropathy</td>\n      <td>NaN</td>\n      <td>NaN</td>\n      <td>None</td>\n    </tr>\n    <tr>\n      <th>2</th>\n      <td>auto_atopic_status</td>\n      <td>Atopic dermatitis/eczema</td>\n      <td>Atopic allergy disorder condition diagnosed in...</td>\n      <td>ICD10:L20.81</td>\n      <td>HP:0001047</td>\n      <td>Atopic dermatitis</td>\n      <td>MONDO:0004980</td>\n      <td>atopic eczema</td>\n      <td>NaN</td>\n      <td>NaN</td>\n      <td>None</td>\n    </tr>\n    <tr>\n      <th>3</th>\n      <td>auto_celiac_status</td>\n      <td>Celiac disease</td>\n      <td>Celiac disease gluten sensitivity diagnosis ev...</td>\n      <td>ICD10:K90.0</td>\n      <td>HP:0002608</td>\n      <td>Celiac disease</td>\n      <td>MONDO:0005130</td>\n      <td>celiac disease</td>\n      <td>NaN</td>\n      <td>NaN</td>\n      <td>Coeliac disease</td>\n    </tr>\n    <tr>\n      <th>4</th>\n      <td>auto_dermatomyositis_status</td>\n      <td>Dermatomyositis</td>\n      <td>NaN</td>\n      <td>ICD10:M33.90</td>\n      <td>NaN</td>\n      <td>NaN</td>\n      <td>MONDO:0016367</td>\n      <td>dermatomyositis</td>\n      <td>NaN</td>\n      <td>NaN</td>\n      <td>None</td>\n    </tr>\n  </tbody>\n</table>\n</div>"
     },
     "execution_count": 137,
     "metadata": {},
     "output_type": "execute_result"
    }
   ],
   "source": [
    "mapping_view.head()"
   ],
   "metadata": {
    "collapsed": false,
    "ExecuteTime": {
     "end_time": "2023-11-01T13:01:37.131696Z",
     "start_time": "2023-11-01T13:01:37.114172Z"
    }
   },
   "id": "3fe3706679bf7eb5"
  },
  {
   "cell_type": "code",
   "execution_count": 138,
   "outputs": [],
   "source": [
    "mapping_view.to_csv('data/CDE_ICD_Ontology_Mappings.tsv', sep='\\t', index=False)"
   ],
   "metadata": {
    "collapsed": false,
    "ExecuteTime": {
     "end_time": "2023-11-01T13:01:55.678453Z",
     "start_time": "2023-11-01T13:01:55.664601Z"
    }
   },
   "id": "f048b420e4ccaa56"
  }
 ],
 "metadata": {
  "kernelspec": {
   "display_name": "Python 3",
   "language": "python",
   "name": "python3"
  },
  "language_info": {
   "codemirror_mode": {
    "name": "ipython",
    "version": 2
   },
   "file_extension": ".py",
   "mimetype": "text/x-python",
   "name": "python",
   "nbconvert_exporter": "python",
   "pygments_lexer": "ipython2",
   "version": "2.7.6"
  }
 },
 "nbformat": 4,
 "nbformat_minor": 5
}
